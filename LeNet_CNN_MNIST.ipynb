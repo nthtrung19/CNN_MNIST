{
  "nbformat": 4,
  "nbformat_minor": 0,
  "metadata": {
    "colab": {
      "provenance": [],
      "gpuType": "T4",
      "mount_file_id": "1LwzU6kP8l55zwBbBrp4yictxC6NWnGZK",
      "authorship_tag": "ABX9TyNpYfh3pyJH6sEHbhXInDCF",
      "include_colab_link": true
    },
    "kernelspec": {
      "name": "python3",
      "display_name": "Python 3"
    },
    "language_info": {
      "name": "python"
    },
    "accelerator": "GPU"
  },
  "cells": [
    {
      "cell_type": "markdown",
      "metadata": {
        "id": "view-in-github",
        "colab_type": "text"
      },
      "source": [
        "<a href=\"https://colab.research.google.com/github/nthtrung19/CNN_MNIST/blob/main/LeNet_CNN_MNIST.ipynb\" target=\"_parent\"><img src=\"https://colab.research.google.com/assets/colab-badge.svg\" alt=\"Open In Colab\"/></a>"
      ]
    },
    {
      "cell_type": "markdown",
      "source": [
        "1. Download datasets\n",
        "\n"
      ],
      "metadata": {
        "id": "jv-_ikNy8aFC"
      }
    },
    {
      "cell_type": "code",
      "source": [
        "#import libs\n",
        "import os\n",
        "import random\n",
        "import numpy\n",
        "import time\n",
        "\n",
        "import torch\n",
        "import torch.nn as nn\n",
        "import torch.optim as optim\n",
        "import torch.nn.functional as F\n",
        "import torch.utils.data as data\n",
        "\n",
        "import torchvision.transforms as transforms\n",
        "import torchvision.datasets as datasets\n",
        "\n",
        "from torchsummary import summary\n",
        "\n",
        "import matplotlib.pyplot as plt\n",
        "from PIL import Image\n",
        "\n",
        "ROOT = './data'\n",
        "train_data = datasets.MNIST(\n",
        "    root=ROOT,\n",
        "    train=True,\n",
        "    download=True\n",
        ")\n",
        "test_data = datasets.MNIST(\n",
        "    root=ROOT,\n",
        "    train=False,\n",
        "    download=True\n",
        ")"
      ],
      "metadata": {
        "id": "qyTctJBz8cF6",
        "colab": {
          "base_uri": "https://localhost:8080/"
        },
        "outputId": "43ac855d-1ec7-49aa-99c1-9bff69a893f4"
      },
      "execution_count": 1,
      "outputs": [
        {
          "output_type": "stream",
          "name": "stderr",
          "text": [
            "100%|██████████| 9.91M/9.91M [00:02<00:00, 4.59MB/s]\n",
            "100%|██████████| 28.9k/28.9k [00:00<00:00, 135kB/s]\n",
            "100%|██████████| 1.65M/1.65M [00:01<00:00, 1.28MB/s]\n",
            "100%|██████████| 4.54k/4.54k [00:00<00:00, 6.90MB/s]\n"
          ]
        }
      ]
    },
    {
      "cell_type": "markdown",
      "source": [
        "2. Preprocessing\n",
        "- Chia ti le cac tap training : validation = 0.9 : 0.1\n",
        "- Chuan hoa du lieu va chuyen sang tensor su dung torchvision.transform"
      ],
      "metadata": {
        "id": "DHbs9rCE_8Dk"
      }
    },
    {
      "cell_type": "code",
      "source": [
        "#split training : validation = 0.9 : 0.1\n",
        "TRAIN_RATIO = 0.9\n",
        "\n",
        "n_train_examples = int(len(train_data) * TRAIN_RATIO)\n",
        "n_valid_examples = len(train_data) - n_train_examples\n",
        "\n",
        "train_data, valid_data = data.random_split(\n",
        "    train_data,\n",
        "    [n_train_examples, n_valid_examples]\n",
        ")\n",
        "\n",
        "#compute mean and std for normalization\n",
        "mean = train_data.dataset.data.float().mean() / 255\n",
        "std = train_data.dataset.data.float().std() / 255\n",
        "\n",
        "train_transforms = transforms.Compose([\n",
        "    transforms.ToTensor(),\n",
        "    transforms.Normalize(mean=[mean], std=[std])\n",
        "])\n",
        "\n",
        "test_transforms = transforms.Compose([\n",
        "    transforms.ToTensor(),\n",
        "    transforms.Normalize(mean=[mean], std=[std])\n",
        "])\n",
        "\n",
        "train_data.dataset.transform = train_transforms\n",
        "valid_data.dataset.transform = test_transforms\n",
        "\n",
        "#create dataloader\n",
        "BATCH_SIZE = 256\n",
        "\n",
        "train_dataloader = data.DataLoader(\n",
        "    train_data,\n",
        "    shuffle=True,\n",
        "    batch_size=BATCH_SIZE\n",
        ")\n",
        "\n",
        "valid_dataloader = data.DataLoader(\n",
        "    valid_data,\n",
        "    batch_size=BATCH_SIZE\n",
        ")"
      ],
      "metadata": {
        "id": "vj4jNdT8_oAC"
      },
      "execution_count": 2,
      "outputs": []
    },
    {
      "cell_type": "markdown",
      "source": [
        "3. Build LeNet Model"
      ],
      "metadata": {
        "id": "Ab_LNw3XOo3u"
      }
    },
    {
      "cell_type": "code",
      "source": [
        "class LeNetClassifier(nn.Module):\n",
        "  def __init__(self, num_classes):\n",
        "    super().__init__()\n",
        "    self.conv1 = nn.Conv2d(in_channels=1, out_channels=6, kernel_size=5, padding='same')\n",
        "    self.avgpool1 = nn.AvgPool2d(kernel_size=2)\n",
        "    self.conv2 = nn.Conv2d(in_channels=6, out_channels=16, kernel_size=5)\n",
        "    self.avgpool2 = nn.AvgPool2d(kernel_size=2)\n",
        "    self.flatten = nn.Flatten()\n",
        "    self.fc_1 = nn.Linear(16 * 5 * 5, 120)\n",
        "    self.fc_2 = nn.Linear(120, 84)\n",
        "    self.fc_3 = nn.Linear(84, num_classes)\n",
        "\n",
        "  def forward(self, inputs):\n",
        "    outputs = self.conv1(inputs)\n",
        "    outputs = self.avgpool1(outputs)\n",
        "    outputs = F.relu(outputs)\n",
        "    outputs = self.conv2(outputs)\n",
        "    outputs = self.avgpool2(outputs)\n",
        "    outputs = F.relu(outputs)\n",
        "    outputs = self.flatten(outputs)\n",
        "    outputs = self.fc_1(outputs)\n",
        "    outputs = self.fc_2(outputs)\n",
        "    outputs = self.fc_3(outputs)\n",
        "    return outputs"
      ],
      "metadata": {
        "id": "kVMnAZQbAWYQ"
      },
      "execution_count": 3,
      "outputs": []
    },
    {
      "cell_type": "markdown",
      "source": [
        "4. Train model\n",
        "\n",
        "\n"
      ],
      "metadata": {
        "id": "j2pP23secZeS"
      }
    },
    {
      "cell_type": "code",
      "source": [
        "# Training function\n",
        "def train(model, optimizer, criterion, train_dataloader, device, epoch=0, log_interval=50):\n",
        "    model.train()\n",
        "    total_acc, total_count = 0, 0\n",
        "    losses = []\n",
        "    start_time = time.time()\n",
        "\n",
        "    for idx, (inputs, labels) in enumerate(train_dataloader):\n",
        "        inputs = inputs.to(device)\n",
        "        labels = labels.to(device)\n",
        "\n",
        "        optimizer.zero_grad()\n",
        "        predictions = model(inputs)\n",
        "        loss = criterion(predictions, labels)\n",
        "        losses.append(loss.item())\n",
        "\n",
        "        loss.backward()\n",
        "        torch.nn.utils.clip_grad_norm_(model.parameters(), 0.1)\n",
        "        optimizer.step()\n",
        "\n",
        "        total_acc += (predictions.argmax(1) == labels).sum().item()\n",
        "        total_count += labels.size(0)\n",
        "\n",
        "        if idx % log_interval == 0 and idx > 0:\n",
        "            elapsed = time.time() - start_time\n",
        "            print(\n",
        "                \"| epoch {:3d} | {:5d}/{:5d} batches | accuracy {:8.3f}\"\n",
        "                .format(epoch, idx, len(train_dataloader), total_acc / total_count)\n",
        "            )\n",
        "            total_acc, total_count = 0, 0\n",
        "            start_time = time.time()\n",
        "\n",
        "    epoch_acc = total_acc / total_count\n",
        "    epoch_loss = sum(losses) / len(losses)\n",
        "    return epoch_acc, epoch_loss\n",
        "\n",
        "\n",
        "# Evaluation function (fixed)\n",
        "def evaluate(model, criterion, valid_dataloader):\n",
        "    model.eval()\n",
        "    total_acc, total_count = 0, 0\n",
        "    losses = []\n",
        "\n",
        "    with torch.no_grad():\n",
        "        for idx, (inputs, labels) in enumerate(valid_dataloader):\n",
        "            inputs = inputs.to(device)\n",
        "            labels = labels.to(device)\n",
        "\n",
        "            predictions = model(inputs)\n",
        "            loss = criterion(predictions, labels)\n",
        "            losses.append(loss.item())\n",
        "\n",
        "            total_acc += (predictions.argmax(1) == labels).sum().item()\n",
        "            total_count += labels.size(0)\n",
        "\n",
        "    epoch_acc = total_acc / total_count\n",
        "    epoch_loss = sum(losses) / len(losses)\n",
        "    return epoch_acc, epoch_loss\n"
      ],
      "metadata": {
        "id": "VCp86Jivcsw4"
      },
      "execution_count": 4,
      "outputs": []
    },
    {
      "cell_type": "markdown",
      "source": [
        "- Training"
      ],
      "metadata": {
        "id": "dKpIHBEs9AOk"
      }
    },
    {
      "cell_type": "code",
      "source": [
        "num_classes = len(train_data.dataset.classes)\n",
        "\n",
        "device = torch.device('cuda' if torch.cuda.is_available() else 'cpu')\n",
        "\n",
        "lenet_model = LeNetClassifier(num_classes)\n",
        "lenet_model.to(device)\n",
        "\n",
        "criterion = torch.nn.CrossEntropyLoss()\n",
        "optimizer = optim.Adam(lenet_model.parameters())\n",
        "\n",
        "num_epochs = 10\n",
        "save_model = './model'\n",
        "\n",
        "train_accs, train_losses = [], []\n",
        "eval_accs, eval_losses = [], []\n",
        "best_loss_eval = 100\n",
        "\n",
        "for epoch in range(1, num_epochs + 1):\n",
        "  epoch_start_time = time.time()\n",
        "  #Training\n",
        "  train_acc, train_loss = train(lenet_model, optimizer, criterion, train_dataloader, device, epoch)\n",
        "  train_accs.append(train_acc)\n",
        "  train_losses.append(train_loss)\n",
        "\n",
        "  #Evaluation\n",
        "  eval_acc, eval_loss = evaluate(lenet_model, criterion, valid_dataloader)\n",
        "  eval_accs.append(eval_acc)\n",
        "  eval_losses.append(eval_loss)\n",
        "\n",
        "  #Save best model\n",
        "  if eval_loss < best_loss_eval:\n",
        "    torch.save(lenet_model.state_dict(), save_model + '/lenet_model.pt')\n",
        "\n",
        "  # Print loss, acc at end of epoch\n",
        "  print(\"-\" * 80)\n",
        "  print(\n",
        "      \"| End of epoch {:3d} | Time: {:5.2f}s | \"\n",
        "      \"Train Acc: {:8.3f} | Train Loss: {:8.3f} | \"\n",
        "      \"Valid Acc: {:8.3f} | Valid Loss: {:8.3f}\".format(\n",
        "          epoch,\n",
        "          time.time() - epoch_start_time,\n",
        "          train_acc,\n",
        "          train_loss,\n",
        "          eval_acc,\n",
        "          eval_loss\n",
        "      )\n",
        "  )\n",
        "  print(\"-\" * 80)\n",
        "\n",
        "  #Load best model\n",
        "  lenet_model.load_state_dict(torch.load(save_model + '/lenet_model.pt'))\n",
        "  lenet_model.eval()\n"
      ],
      "metadata": {
        "colab": {
          "base_uri": "https://localhost:8080/"
        },
        "id": "41awu_JK9Dl1",
        "outputId": "0ead1db0-3c72-4650-b728-1dfd75745ae8"
      },
      "execution_count": 6,
      "outputs": [
        {
          "output_type": "stream",
          "name": "stdout",
          "text": [
            "| epoch   1 |    50/  211 batches | accuracy    0.690\n",
            "| epoch   1 |   100/  211 batches | accuracy    0.886\n",
            "| epoch   1 |   150/  211 batches | accuracy    0.915\n",
            "| epoch   1 |   200/  211 batches | accuracy    0.935\n",
            "--------------------------------------------------------------------------------\n",
            "| End of epoch   1 | Time: 12.47s | Train Acc:    0.945 | Train Loss:    0.498 | Valid Acc:    0.951 | Valid Loss:    0.165\n",
            "--------------------------------------------------------------------------------\n",
            "| epoch   2 |    50/  211 batches | accuracy    0.955\n",
            "| epoch   2 |   100/  211 batches | accuracy    0.961\n",
            "| epoch   2 |   150/  211 batches | accuracy    0.965\n",
            "| epoch   2 |   200/  211 batches | accuracy    0.967\n",
            "--------------------------------------------------------------------------------\n",
            "| End of epoch   2 | Time: 12.29s | Train Acc:    0.973 | Train Loss:    0.122 | Valid Acc:    0.968 | Valid Loss:    0.110\n",
            "--------------------------------------------------------------------------------\n",
            "| epoch   3 |    50/  211 batches | accuracy    0.974\n",
            "| epoch   3 |   100/  211 batches | accuracy    0.973\n",
            "| epoch   3 |   150/  211 batches | accuracy    0.976\n",
            "| epoch   3 |   200/  211 batches | accuracy    0.974\n",
            "--------------------------------------------------------------------------------\n",
            "| End of epoch   3 | Time: 12.47s | Train Acc:    0.972 | Train Loss:    0.083 | Valid Acc:    0.976 | Valid Loss:    0.083\n",
            "--------------------------------------------------------------------------------\n",
            "| epoch   4 |    50/  211 batches | accuracy    0.977\n",
            "| epoch   4 |   100/  211 batches | accuracy    0.980\n",
            "| epoch   4 |   150/  211 batches | accuracy    0.980\n",
            "| epoch   4 |   200/  211 batches | accuracy    0.980\n",
            "--------------------------------------------------------------------------------\n",
            "| End of epoch   4 | Time: 12.32s | Train Acc:    0.983 | Train Loss:    0.067 | Valid Acc:    0.979 | Valid Loss:    0.069\n",
            "--------------------------------------------------------------------------------\n",
            "| epoch   5 |    50/  211 batches | accuracy    0.982\n",
            "| epoch   5 |   100/  211 batches | accuracy    0.983\n",
            "| epoch   5 |   150/  211 batches | accuracy    0.981\n",
            "| epoch   5 |   200/  211 batches | accuracy    0.982\n",
            "--------------------------------------------------------------------------------\n",
            "| End of epoch   5 | Time: 12.30s | Train Acc:    0.985 | Train Loss:    0.056 | Valid Acc:    0.982 | Valid Loss:    0.058\n",
            "--------------------------------------------------------------------------------\n",
            "| epoch   6 |    50/  211 batches | accuracy    0.988\n",
            "| epoch   6 |   100/  211 batches | accuracy    0.985\n",
            "| epoch   6 |   150/  211 batches | accuracy    0.986\n",
            "| epoch   6 |   200/  211 batches | accuracy    0.985\n",
            "--------------------------------------------------------------------------------\n",
            "| End of epoch   6 | Time: 12.27s | Train Acc:    0.988 | Train Loss:    0.047 | Valid Acc:    0.982 | Valid Loss:    0.061\n",
            "--------------------------------------------------------------------------------\n",
            "| epoch   7 |    50/  211 batches | accuracy    0.987\n",
            "| epoch   7 |   100/  211 batches | accuracy    0.986\n",
            "| epoch   7 |   150/  211 batches | accuracy    0.988\n",
            "| epoch   7 |   200/  211 batches | accuracy    0.986\n",
            "--------------------------------------------------------------------------------\n",
            "| End of epoch   7 | Time: 11.97s | Train Acc:    0.983 | Train Loss:    0.043 | Valid Acc:    0.982 | Valid Loss:    0.060\n",
            "--------------------------------------------------------------------------------\n",
            "| epoch   8 |    50/  211 batches | accuracy    0.988\n",
            "| epoch   8 |   100/  211 batches | accuracy    0.989\n",
            "| epoch   8 |   150/  211 batches | accuracy    0.986\n",
            "| epoch   8 |   200/  211 batches | accuracy    0.986\n",
            "--------------------------------------------------------------------------------\n",
            "| End of epoch   8 | Time: 11.86s | Train Acc:    0.992 | Train Loss:    0.040 | Valid Acc:    0.984 | Valid Loss:    0.054\n",
            "--------------------------------------------------------------------------------\n",
            "| epoch   9 |    50/  211 batches | accuracy    0.988\n",
            "| epoch   9 |   100/  211 batches | accuracy    0.989\n",
            "| epoch   9 |   150/  211 batches | accuracy    0.988\n",
            "| epoch   9 |   200/  211 batches | accuracy    0.988\n",
            "--------------------------------------------------------------------------------\n",
            "| End of epoch   9 | Time: 12.02s | Train Acc:    0.991 | Train Loss:    0.037 | Valid Acc:    0.983 | Valid Loss:    0.061\n",
            "--------------------------------------------------------------------------------\n",
            "| epoch  10 |    50/  211 batches | accuracy    0.990\n",
            "| epoch  10 |   100/  211 batches | accuracy    0.989\n",
            "| epoch  10 |   150/  211 batches | accuracy    0.989\n",
            "| epoch  10 |   200/  211 batches | accuracy    0.987\n",
            "--------------------------------------------------------------------------------\n",
            "| End of epoch  10 | Time: 12.39s | Train Acc:    0.991 | Train Loss:    0.035 | Valid Acc:    0.984 | Valid Loss:    0.056\n",
            "--------------------------------------------------------------------------------\n"
          ]
        }
      ]
    },
    {
      "cell_type": "code",
      "source": [
        "# train_accs = [accuracy của từng epoch trên train]\n",
        "# eval_accs = [accuracy trên tập validation]\n",
        "# train_losses = [loss từng epoch trên train]\n",
        "# eval_losses = [loss trên validation]\n",
        "\n",
        "epochs = range(len(train_accs))  # hoặc range(1, num_epochs + 1)\n",
        "\n",
        "plt.figure(figsize=(12, 5))\n",
        "\n",
        "# ---- ACCURACY subplot ----\n",
        "plt.subplot(1, 2, 1)\n",
        "plt.plot(epochs, train_accs, label='Training')\n",
        "plt.plot(epochs, eval_accs, label='Evaluation')\n",
        "plt.xlabel('Epochs')\n",
        "plt.ylabel('Accuracy')\n",
        "plt.title('Accuracy')\n",
        "plt.legend()\n",
        "\n",
        "# ---- LOSS subplot ----\n",
        "plt.subplot(1, 2, 2)\n",
        "plt.plot(epochs, train_losses, label='Training')\n",
        "plt.plot(epochs, eval_losses, label='Evaluation')\n",
        "plt.xlabel('Epochs')\n",
        "plt.ylabel('Loss')\n",
        "plt.title('Loss')\n",
        "plt.legend()\n",
        "\n",
        "plt.tight_layout()\n",
        "plt.show()\n"
      ],
      "metadata": {
        "colab": {
          "base_uri": "https://localhost:8080/",
          "height": 507
        },
        "id": "6Z8NeiQkBwCP",
        "outputId": "57a5a21d-fc40-4993-d441-b059c23531ad"
      },
      "execution_count": 8,
      "outputs": [
        {
          "output_type": "display_data",
          "data": {
            "text/plain": [
              "<Figure size 1200x500 with 2 Axes>"
            ],
            "image/png": "[encoded data removed]"
          },
          "metadata": {}
        }
      ]
    },
    {
      "cell_type": "code",
      "source": [
        "test_data.transform = test_transforms\n",
        "test_dataloader = data.DataLoader(\n",
        "    test_data,\n",
        "    batch_size=BATCH_SIZE\n",
        ")\n",
        "test_acc, test_loss = evaluate(lenet_model, criterion, test_dataloader)\n",
        "test_acc, test_loss"
      ],
      "metadata": {
        "colab": {
          "base_uri": "https://localhost:8080/"
        },
        "id": "-ZBnWpgStGer",
        "outputId": "ae8a492b-394a-484c-f49a-9271b6e82255"
      },
      "execution_count": 9,
      "outputs": [
        {
          "output_type": "execute_result",
          "data": {
            "text/plain": [
              "(0.9863, 0.04036255186765629)"
            ]
          },
          "metadata": {},
          "execution_count": 9
        }
      ]
    }
  ]
}